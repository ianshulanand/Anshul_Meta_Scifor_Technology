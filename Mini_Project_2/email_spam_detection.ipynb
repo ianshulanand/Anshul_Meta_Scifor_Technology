{
 "cells": [
  {
   "cell_type": "markdown",
   "id": "d9def07e-205a-42ee-8070-f74ccd8fb4dd",
   "metadata": {},
   "source": [
    "# Email Spam Detection Model"
   ]
  },
  {
   "cell_type": "markdown",
   "id": "744f3ed5-2a31-43de-8583-6be895c98199",
   "metadata": {},
   "source": [
    "## Import Necessary Libraries"
   ]
  },
  {
   "cell_type": "markdown",
   "id": "6aa6e302-74ad-4435-8a1f-ac47b12f2dd5",
   "metadata": {},
   "source": [
    "Start by importing the required libraries for data processing, model building, evaluation, and visualization."
   ]
  },
  {
   "cell_type": "code",
   "execution_count": 20,
   "id": "e1227169-5196-4b91-9a50-cfb4392889d2",
   "metadata": {},
   "outputs": [],
   "source": [
    "import pandas as pd\n",
    "import numpy as np\n",
    "import re\n",
    "import nltk\n",
    "from sklearn.model_selection import train_test_split\n",
    "from sklearn.feature_extraction.text import CountVectorizer\n",
    "from sklearn.naive_bayes import MultinomialNB\n",
    "from sklearn.metrics import accuracy_score, classification_report, confusion_matrix\n",
    "import seaborn as sns\n",
    "import matplotlib.pyplot as plt\n",
    "import joblib\n",
    "from imblearn.over_sampling import SMOTE\n",
    "from sklearn.linear_model import LogisticRegression\n",
    "from sklearn.ensemble import RandomForestClassifier\n",
    "from sklearn.model_selection import GridSearchCV, cross_val_score"
   ]
  },
  {
   "cell_type": "markdown",
   "id": "2fb6ca56-69c0-4e7b-94e0-ba43c5b17200",
   "metadata": {},
   "source": [
    "## Load and Inspect the Dataset"
   ]
  },
  {
   "cell_type": "markdown",
   "id": "6098d6e1-71a0-4a52-8185-963bdb986d5a",
   "metadata": {},
   "source": [
    "We need to load the dataset and inspect it for initial analysis. Let’s assume the dataset file is spam_or_not_spam.csv."
   ]
  },
  {
   "cell_type": "code",
   "execution_count": 21,
   "id": "44a174d3-160e-443a-b1bf-01e8ddbe024f",
   "metadata": {},
   "outputs": [
    {
     "name": "stdout",
     "output_type": "stream",
     "text": [
      "                                               email  label\n",
      "0   date wed NUMBER aug NUMBER NUMBER NUMBER NUMB...      0\n",
      "1  martin a posted tassos papadopoulos the greek ...      0\n",
      "2  man threatens explosion in moscow thursday aug...      0\n",
      "3  klez the virus that won t die already the most...      0\n",
      "4   in adding cream to spaghetti carbonara which ...      0\n",
      "label\n",
      "0    2500\n",
      "1     500\n",
      "Name: count, dtype: int64\n"
     ]
    }
   ],
   "source": [
    "# Load the dataset\n",
    "df = pd.read_csv('spam_or_not_spam.csv')\n",
    "\n",
    "# Inspect the first few rows of the dataset\n",
    "print(df.head())\n",
    "\n",
    "# Check the distribution of spam vs ham\n",
    "print(df['label'].value_counts())"
   ]
  },
  {
   "cell_type": "markdown",
   "id": "1c58e28e-2f3c-4a1c-ada4-d68d064915ee",
   "metadata": {},
   "source": [
    "#### Explanation"
   ]
  },
  {
   "cell_type": "markdown",
   "id": "1f3e7b51-0517-4f10-8d0c-9e3b63479b4a",
   "metadata": {},
   "source": [
    "label column should indicate spam (1) or ham (0) messages.\n",
    "\n",
    "Inspect the first few rows to understand the dataset structure."
   ]
  },
  {
   "cell_type": "markdown",
   "id": "f7c26f68-7bea-460b-87c5-ae3ec40420a3",
   "metadata": {},
   "source": [
    "## Data Cleaning and Preprocessing"
   ]
  },
  {
   "cell_type": "markdown",
   "id": "d9f3e453-fee3-4ae6-ae1c-e9085be28072",
   "metadata": {},
   "source": [
    "Clean and preprocess the text data by removing unnecessary characters, stopwords, and performing lemmatization."
   ]
  },
  {
   "cell_type": "code",
   "execution_count": 22,
   "id": "741d56da-ec6f-4964-b9a5-a757f2640254",
   "metadata": {},
   "outputs": [
    {
     "name": "stderr",
     "output_type": "stream",
     "text": [
      "[nltk_data] Downloading package stopwords to\n",
      "[nltk_data]     C:\\Users\\iabhi\\AppData\\Roaming\\nltk_data...\n",
      "[nltk_data]   Package stopwords is already up-to-date!\n",
      "[nltk_data] Downloading package wordnet to\n",
      "[nltk_data]     C:\\Users\\iabhi\\AppData\\Roaming\\nltk_data...\n",
      "[nltk_data]   Package wordnet is already up-to-date!\n"
     ]
    }
   ],
   "source": [
    "# Download necessary NLTK resources\n",
    "nltk.download('stopwords')\n",
    "nltk.download('wordnet')\n",
    "\n",
    "from nltk.corpus import stopwords\n",
    "from nltk.stem import WordNetLemmatizer\n",
    "\n",
    "# Initialize lemmatizer and stopwords\n",
    "lemmatizer = WordNetLemmatizer()\n",
    "stop_words = set(stopwords.words('english'))\n",
    "\n",
    "def clean_text(text):\n",
    "    if not isinstance(text, str):  # Handle non-string inputs\n",
    "        return \"\"\n",
    "    text = text.lower()  # Convert to lowercase\n",
    "    text = re.sub(r'\\d+', '', text)  # Remove numbers\n",
    "    text = re.sub(r'[^\\w\\s]', '', text)  # Remove punctuation\n",
    "    text = ' '.join([lemmatizer.lemmatize(word) for word in text.split() if word not in stop_words])  # Lemmatize and remove stopwords\n",
    "    return text\n",
    "\n",
    "# Apply the cleaning function to the 'text' column\n",
    "df['cleaned_text'] = df['email'].apply(clean_text)"
   ]
  },
  {
   "cell_type": "markdown",
   "id": "e269343f-8b59-4f83-bb35-e49aea006611",
   "metadata": {},
   "source": [
    "#### Explanation"
   ]
  },
  {
   "cell_type": "markdown",
   "id": "65e54552-fbb9-4dda-8b2c-7aea81540fc5",
   "metadata": {},
   "source": [
    "The function clean_text handles lowercasing, punctuation removal, and stopword filtering.\n",
    "\n",
    "Lemmatization converts words to their root form (e.g., \"running\" to \"run\")."
   ]
  },
  {
   "cell_type": "markdown",
   "id": "b3178b89-7df1-4741-9e5d-000b5265e4bf",
   "metadata": {},
   "source": [
    "## Split the Dataset into Features and Target Variable"
   ]
  },
  {
   "cell_type": "markdown",
   "id": "066e0535-8343-4a62-bab9-f170684a1579",
   "metadata": {},
   "source": [
    "Prepare the features (X) and target (y) for model training. Use CountVectorizer for converting text into numerical form."
   ]
  },
  {
   "cell_type": "code",
   "execution_count": 23,
   "id": "03ca4e43-52e7-44cd-8298-bba84b31ca1a",
   "metadata": {},
   "outputs": [],
   "source": [
    "# Split the data into features (X) and target labels (y)\n",
    "X = df['cleaned_text']\n",
    "y = df['label']\n",
    "\n",
    "# Convert the text data to numeric vectors using CountVectorizer\n",
    "vectorizer = CountVectorizer()\n",
    "X = vectorizer.fit_transform(X)\n",
    "\n",
    "# Split the data into training and testing sets (80% train, 20% test)\n",
    "X_train, X_test, y_train, y_test = train_test_split(X, y, test_size=0.2, random_state=42)"
   ]
  },
  {
   "cell_type": "markdown",
   "id": "e597f788-b222-48b2-be2a-c5933d051c2f",
   "metadata": {},
   "source": [
    "#### Explanation"
   ]
  },
  {
   "cell_type": "markdown",
   "id": "26df4d5e-1fe6-40a5-a4f4-370e32f5bb74",
   "metadata": {},
   "source": [
    "CountVectorizer transforms the text data into a matrix of token counts, which can be used by machine learning algorithms.\n",
    "\n",
    "Split the data into training and test sets (80-20 ratio)."
   ]
  },
  {
   "cell_type": "markdown",
   "id": "a08d2545-3633-4b04-9f75-2db493c1ab91",
   "metadata": {},
   "source": [
    "## Model Training and Evaluation"
   ]
  },
  {
   "cell_type": "markdown",
   "id": "f5525aaa-1d1c-417f-b2ba-c356559cefee",
   "metadata": {},
   "source": [
    "Train the Naive Bayes classifier on the training data and evaluate the performance."
   ]
  },
  {
   "cell_type": "code",
   "execution_count": 24,
   "id": "be993de1-102f-4beb-b827-7762efd84d0f",
   "metadata": {},
   "outputs": [
    {
     "name": "stdout",
     "output_type": "stream",
     "text": [
      "Accuracy: 0.99\n",
      "Classification Report:\n",
      "               precision    recall  f1-score   support\n",
      "\n",
      "           0       0.99      1.00      0.99       505\n",
      "           1       1.00      0.94      0.97        95\n",
      "\n",
      "    accuracy                           0.99       600\n",
      "   macro avg       0.99      0.97      0.98       600\n",
      "weighted avg       0.99      0.99      0.99       600\n",
      "\n"
     ]
    }
   ],
   "source": [
    "# Initialize the Naive Bayes classifier\n",
    "nb_model = MultinomialNB()\n",
    "\n",
    "# Train the model using the training data\n",
    "nb_model.fit(X_train, y_train)\n",
    "\n",
    "# Predict on the test data\n",
    "y_pred = nb_model.predict(X_test)\n",
    "\n",
    "# Evaluate the model\n",
    "print(\"Accuracy:\", accuracy_score(y_test, y_pred))\n",
    "print(\"Classification Report:\\n\", classification_report(y_test, y_pred))"
   ]
  },
  {
   "cell_type": "markdown",
   "id": "13b04caa-b4b1-4362-a7ec-9f51d31095d2",
   "metadata": {},
   "source": [
    "#### Explanation"
   ]
  },
  {
   "cell_type": "markdown",
   "id": "b2741bb0-0651-427f-8c5f-8a005cd18c27",
   "metadata": {},
   "source": [
    "Naive Bayes is a common and effective algorithm for text classification tasks.\n",
    "\n",
    "Evaluate using accuracy and classification report to assess precision, recall, and F1-score."
   ]
  },
  {
   "cell_type": "markdown",
   "id": "75182bcc-077f-4f08-87a2-603745152418",
   "metadata": {},
   "source": [
    "## Optional - Hyperparameter Tuning Using GridSearchCV"
   ]
  },
  {
   "cell_type": "markdown",
   "id": "f6eaa30f-689c-496f-aa79-afd9ab2bf1e6",
   "metadata": {},
   "source": [
    "Optimize the hyperparameters of the Naive Bayes model for better accuracy."
   ]
  },
  {
   "cell_type": "code",
   "execution_count": 25,
   "id": "b563b262-8195-4cb9-8a39-0288dd06f7f4",
   "metadata": {},
   "outputs": [
    {
     "name": "stdout",
     "output_type": "stream",
     "text": [
      "Best parameters found: {'alpha': 0.5, 'fit_prior': True}\n",
      "Best Model Accuracy: 0.99\n",
      "Best Model Classification Report:\n",
      "               precision    recall  f1-score   support\n",
      "\n",
      "           0       0.99      1.00      0.99       505\n",
      "           1       1.00      0.94      0.97        95\n",
      "\n",
      "    accuracy                           0.99       600\n",
      "   macro avg       0.99      0.97      0.98       600\n",
      "weighted avg       0.99      0.99      0.99       600\n",
      "\n"
     ]
    }
   ],
   "source": [
    "# Set up the parameter grid for GridSearchCV\n",
    "param_grid = {\n",
    "    'alpha': [0.5, 1.0, 1.5],  # Smoothing parameter\n",
    "    'fit_prior': [True, False]  # Whether to learn class priors\n",
    "}\n",
    "\n",
    "# Set up GridSearchCV with 5-fold cross-validation\n",
    "grid_search = GridSearchCV(estimator=nb_model, param_grid=param_grid, cv=5, scoring='accuracy')\n",
    "\n",
    "# Fit GridSearchCV\n",
    "grid_search.fit(X_train, y_train)\n",
    "\n",
    "# Display the best parameters\n",
    "print(\"Best parameters found:\", grid_search.best_params_)\n",
    "\n",
    "# Use the best model from GridSearchCV\n",
    "best_nb_model = grid_search.best_estimator_\n",
    "\n",
    "# Evaluate the best model\n",
    "y_pred_best = best_nb_model.predict(X_test)\n",
    "print(\"Best Model Accuracy:\", accuracy_score(y_test, y_pred_best))\n",
    "print(\"Best Model Classification Report:\\n\", classification_report(y_test, y_pred_best))"
   ]
  },
  {
   "cell_type": "markdown",
   "id": "c904d0a9-3c67-4274-af6a-e09fb594e92e",
   "metadata": {},
   "source": [
    "#### Explanation"
   ]
  },
  {
   "cell_type": "markdown",
   "id": "ef3a5697-2b2c-431a-b76b-a43dcff43d0c",
   "metadata": {},
   "source": [
    "GridSearchCV performs exhaustive search over specified parameter values (like alpha and fit_prior) to select the best-performing model."
   ]
  },
  {
   "cell_type": "markdown",
   "id": "b04a837a-0562-4a54-9574-506ce8ad83e1",
   "metadata": {},
   "source": [
    "## Optional - Handling Class Imbalance (SMOTE or Class Weights)"
   ]
  },
  {
   "cell_type": "markdown",
   "id": "737e6ff2-f9b3-47b7-8f3e-8e66addeebdf",
   "metadata": {},
   "source": [
    "Handle the class imbalance in the dataset using SMOTE or class weights."
   ]
  },
  {
   "cell_type": "markdown",
   "id": "b3e1fc91-5a03-4c87-a1a0-635d342dc322",
   "metadata": {},
   "source": [
    "### Using Class Weights:"
   ]
  },
  {
   "cell_type": "code",
   "execution_count": 26,
   "id": "917d2119-4c9e-49e0-aff3-7483d85c46c0",
   "metadata": {},
   "outputs": [
    {
     "name": "stdout",
     "output_type": "stream",
     "text": [
      "Model with Class Weights Accuracy: 0.99\n",
      "Model with Class Weights Classification Report:\n",
      "               precision    recall  f1-score   support\n",
      "\n",
      "           0       0.99      1.00      0.99       505\n",
      "           1       1.00      0.94      0.97        95\n",
      "\n",
      "    accuracy                           0.99       600\n",
      "   macro avg       0.99      0.97      0.98       600\n",
      "weighted avg       0.99      0.99      0.99       600\n",
      "\n"
     ]
    }
   ],
   "source": [
    "# Set class weights for Naive Bayes\n",
    "model_with_class_weights = MultinomialNB(class_prior=None)\n",
    "\n",
    "# Train the model\n",
    "model_with_class_weights.fit(X_train, y_train)\n",
    "\n",
    "# Evaluate the model\n",
    "y_pred_weighted = model_with_class_weights.predict(X_test)\n",
    "print(\"Model with Class Weights Accuracy:\", accuracy_score(y_test, y_pred_weighted))\n",
    "print(\"Model with Class Weights Classification Report:\\n\", classification_report(y_test, y_pred_weighted))"
   ]
  },
  {
   "cell_type": "markdown",
   "id": "931e8a89-8e13-4a79-91d3-af3f38ae7cdd",
   "metadata": {},
   "source": [
    "### Using SMOTE:"
   ]
  },
  {
   "cell_type": "code",
   "execution_count": 27,
   "id": "597c9d62-10da-4b38-8c3a-e1add1f8b62b",
   "metadata": {},
   "outputs": [
    {
     "name": "stdout",
     "output_type": "stream",
     "text": [
      "Resampled Model Accuracy: 0.985\n",
      "Resampled Model Classification Report:\n",
      "               precision    recall  f1-score   support\n",
      "\n",
      "           0       0.99      1.00      0.99       505\n",
      "           1       0.98      0.93      0.95        95\n",
      "\n",
      "    accuracy                           0.98       600\n",
      "   macro avg       0.98      0.96      0.97       600\n",
      "weighted avg       0.98      0.98      0.98       600\n",
      "\n"
     ]
    }
   ],
   "source": [
    "# Apply SMOTE for oversampling the minority class\n",
    "smote = SMOTE(random_state=42)\n",
    "X_resampled, y_resampled = smote.fit_resample(X_train, y_train)\n",
    "\n",
    "# Train the model on resampled data\n",
    "model_resampled = MultinomialNB()\n",
    "model_resampled.fit(X_resampled, y_resampled)\n",
    "\n",
    "# Evaluate the resampled model\n",
    "y_pred_resampled = model_resampled.predict(X_test)\n",
    "print(\"Resampled Model Accuracy:\", accuracy_score(y_test, y_pred_resampled))\n",
    "print(\"Resampled Model Classification Report:\\n\", classification_report(y_test, y_pred_resampled))"
   ]
  },
  {
   "cell_type": "markdown",
   "id": "660170ff-3500-4b04-935e-373527eede23",
   "metadata": {},
   "source": [
    "#### Explanation"
   ]
  },
  {
   "cell_type": "markdown",
   "id": "5a2026f1-7303-49be-93fd-cfc7abd0fad6",
   "metadata": {},
   "source": [
    "SMOTE generates synthetic samples for the minority class, addressing class imbalance.\n",
    "\n",
    "Class Weights modify the model to pay more attention to the minority class during training."
   ]
  },
  {
   "cell_type": "markdown",
   "id": "9ea1bf01-1ab4-443b-bd43-b4803614ab36",
   "metadata": {},
   "source": [
    "## Optional - Experiment with Other Models (Logistic Regression and Random Forest)"
   ]
  },
  {
   "cell_type": "markdown",
   "id": "ef2b016c-fca8-4f9c-a218-513dd394de2a",
   "metadata": {},
   "source": [
    "We can try other models like Logistic Regression or Random Forest to see if they perform better."
   ]
  },
  {
   "cell_type": "markdown",
   "id": "7f64c6b2-9f30-4f98-96f5-358c826688d9",
   "metadata": {},
   "source": [
    "### Logistic Regression:"
   ]
  },
  {
   "cell_type": "code",
   "execution_count": 28,
   "id": "53e2dc09-074c-44f8-be60-09e519969a82",
   "metadata": {},
   "outputs": [
    {
     "name": "stdout",
     "output_type": "stream",
     "text": [
      "Logistic Regression Accuracy: 0.9866666666666667\n",
      "Logistic Regression Classification Report:\n",
      "               precision    recall  f1-score   support\n",
      "\n",
      "           0       0.99      1.00      0.99       505\n",
      "           1       0.99      0.93      0.96        95\n",
      "\n",
      "    accuracy                           0.99       600\n",
      "   macro avg       0.99      0.96      0.97       600\n",
      "weighted avg       0.99      0.99      0.99       600\n",
      "\n"
     ]
    }
   ],
   "source": [
    "logreg_model = LogisticRegression()\n",
    "logreg_model.fit(X_train, y_train)\n",
    "y_pred_logreg = logreg_model.predict(X_test)\n",
    "print(\"Logistic Regression Accuracy:\", accuracy_score(y_test, y_pred_logreg))\n",
    "print(\"Logistic Regression Classification Report:\\n\", classification_report(y_test, y_pred_logreg))"
   ]
  },
  {
   "cell_type": "markdown",
   "id": "fd2c19c2-bd9d-48ca-b7ba-bbe6cb6f54da",
   "metadata": {},
   "source": [
    "### Random Forest:"
   ]
  },
  {
   "cell_type": "code",
   "execution_count": 29,
   "id": "c1b02ee4-969a-48de-b92e-a258a076820e",
   "metadata": {},
   "outputs": [
    {
     "name": "stdout",
     "output_type": "stream",
     "text": [
      "Random Forest Accuracy: 0.9733333333333334\n",
      "Random Forest Classification Report:\n",
      "               precision    recall  f1-score   support\n",
      "\n",
      "           0       0.98      0.99      0.98       505\n",
      "           1       0.93      0.89      0.91        95\n",
      "\n",
      "    accuracy                           0.97       600\n",
      "   macro avg       0.96      0.94      0.95       600\n",
      "weighted avg       0.97      0.97      0.97       600\n",
      "\n"
     ]
    }
   ],
   "source": [
    "rf_model = RandomForestClassifier()\n",
    "rf_model.fit(X_train, y_train)\n",
    "y_pred_rf = rf_model.predict(X_test)\n",
    "print(\"Random Forest Accuracy:\", accuracy_score(y_test, y_pred_rf))\n",
    "print(\"Random Forest Classification Report:\\n\", classification_report(y_test, y_pred_rf))"
   ]
  },
  {
   "cell_type": "markdown",
   "id": "415a5c61-4fac-4306-a338-0596398a92b8",
   "metadata": {},
   "source": [
    "## Optional - Cross-Validation"
   ]
  },
  {
   "cell_type": "markdown",
   "id": "c38ba01c-ee09-4976-a9af-5c3521714faf",
   "metadata": {},
   "source": [
    "Use cross-validation to evaluate model performance across different splits of the data."
   ]
  },
  {
   "cell_type": "code",
   "execution_count": 30,
   "id": "410cf36e-303c-4767-8e32-7320537dbb58",
   "metadata": {},
   "outputs": [
    {
     "name": "stdout",
     "output_type": "stream",
     "text": [
      "Cross-Validation Scores: [0.97666667 0.97       0.97833333 0.97166667 0.99333333]\n",
      "Average Cross-Validation Score: 0.9780000000000001\n"
     ]
    }
   ],
   "source": [
    "# Perform 5-fold cross-validation on the Naive Bayes model\n",
    "cross_val_scores = cross_val_score(nb_model, X, y, cv=5, scoring='accuracy')\n",
    "\n",
    "# Display the cross-validation scores\n",
    "print(\"Cross-Validation Scores:\", cross_val_scores)\n",
    "print(\"Average Cross-Validation Score:\", cross_val_scores.mean())"
   ]
  },
  {
   "cell_type": "markdown",
   "id": "602559fb-7d50-45c9-aa3d-23fc6c9a0b5a",
   "metadata": {},
   "source": [
    "#### Explanation"
   ]
  },
  {
   "cell_type": "markdown",
   "id": "3de92e2d-2a83-4e8c-bfd8-ac90d7049e4f",
   "metadata": {},
   "source": [
    "Cross-validation helps in better generalization by splitting data into multiple subsets and validating on each subset."
   ]
  },
  {
   "cell_type": "markdown",
   "id": "203e4111-080b-4bfa-a934-e45786066387",
   "metadata": {},
   "source": [
    "## Optional - Visualizing the Confusion Matrix"
   ]
  },
  {
   "cell_type": "markdown",
   "id": "ec5cece5-f397-4fcd-aa66-5a61d0bba13d",
   "metadata": {},
   "source": [
    "Visualize the model’s predictions using a confusion matrix."
   ]
  },
  {
   "cell_type": "code",
   "execution_count": 31,
   "id": "8881ce2b-54f3-4e64-8b4b-da3105be53f3",
   "metadata": {},
   "outputs": [
    {
     "data": {
      "image/png": "[encoded data removed]",
      "text/plain": [
       "<Figure size 600x500 with 2 Axes>"
      ]
     },
     "metadata": {},
     "output_type": "display_data"
    }
   ],
   "source": [
    "# Generate confusion matrix\n",
    "cm = confusion_matrix(y_test, y_pred)\n",
    "\n",
    "# Visualize the confusion matrix using Seaborn heatmap\n",
    "plt.figure(figsize=(6, 5))\n",
    "sns.heatmap(cm, annot=True, fmt=\"d\", cmap=\"Blues\", xticklabels=['Ham', 'Spam'], yticklabels=['Ham', 'Spam'])\n",
    "plt.xlabel('Predicted')\n",
    "plt.ylabel('True')\n",
    "plt.title('Confusion Matrix')\n",
    "plt.show()"
   ]
  },
  {
   "cell_type": "markdown",
   "id": "214f4fd9-89e8-4e68-98ab-f9a081cc843e",
   "metadata": {},
   "source": [
    "## Save the Model for Future Use"
   ]
  },
  {
   "cell_type": "markdown",
   "id": "c467db54-1f59-47bb-8e1c-af851ddefd19",
   "metadata": {},
   "source": [
    "We can save the trained model using joblib for future predictions."
   ]
  },
  {
   "cell_type": "code",
   "execution_count": 32,
   "id": "2baad0f0-a7e4-4a3e-90bc-3c889b7e53f3",
   "metadata": {},
   "outputs": [
    {
     "data": {
      "text/plain": [
       "['count_vectorizer.pkl']"
      ]
     },
     "execution_count": 32,
     "metadata": {},
     "output_type": "execute_result"
    }
   ],
   "source": [
    "# Save the trained model using joblib\n",
    "joblib.dump(nb_model, 'spam_detection_model.pkl')\n",
    "\n",
    "joblib.dump(nb_model, 'count_vectorizer.pkl')"
   ]
  },
  {
   "cell_type": "markdown",
   "id": "086108fc-e57f-425a-851b-6283902241d3",
   "metadata": {},
   "source": [
    "## Optional - Web Application with Streamlit"
   ]
  },
  {
   "cell_type": "markdown",
   "id": "7410090b-53d9-4ab0-a913-090f1790c240",
   "metadata": {},
   "source": [
    "Create a simple web interface using Streamlit to allow users to classify spam/ham messages."
   ]
  },
  {
   "cell_type": "code",
   "execution_count": 33,
   "id": "ee01a5cf-16de-4974-b52b-5aabae1788f8",
   "metadata": {},
   "outputs": [
    {
     "name": "stderr",
     "output_type": "stream",
     "text": [
      "2024-11-24 01:34:51.425 Thread 'MainThread': missing ScriptRunContext! This warning can be ignored when running in bare mode.\n",
      "2024-11-24 01:34:51.426 Thread 'MainThread': missing ScriptRunContext! This warning can be ignored when running in bare mode.\n",
      "2024-11-24 01:34:51.428 Thread 'MainThread': missing ScriptRunContext! This warning can be ignored when running in bare mode.\n",
      "2024-11-24 01:34:51.429 Thread 'MainThread': missing ScriptRunContext! This warning can be ignored when running in bare mode.\n",
      "2024-11-24 01:34:51.430 Thread 'MainThread': missing ScriptRunContext! This warning can be ignored when running in bare mode.\n",
      "2024-11-24 01:34:51.431 Thread 'MainThread': missing ScriptRunContext! This warning can be ignored when running in bare mode.\n",
      "2024-11-24 01:34:51.432 Thread 'MainThread': missing ScriptRunContext! This warning can be ignored when running in bare mode.\n",
      "2024-11-24 01:34:51.433 Thread 'MainThread': missing ScriptRunContext! This warning can be ignored when running in bare mode.\n",
      "2024-11-24 01:34:51.434 Thread 'MainThread': missing ScriptRunContext! This warning can be ignored when running in bare mode.\n",
      "2024-11-24 01:34:51.435 Thread 'MainThread': missing ScriptRunContext! This warning can be ignored when running in bare mode.\n",
      "2024-11-24 01:34:51.438 Thread 'MainThread': missing ScriptRunContext! This warning can be ignored when running in bare mode.\n",
      "2024-11-24 01:34:51.440 Thread 'MainThread': missing ScriptRunContext! This warning can be ignored when running in bare mode.\n",
      "2024-11-24 01:34:51.444 Thread 'MainThread': missing ScriptRunContext! This warning can be ignored when running in bare mode.\n"
     ]
    }
   ],
   "source": [
    "import streamlit as st\n",
    "\n",
    "# Load the saved model\n",
    "model = joblib.load('spam_detection_model.pkl')\n",
    "vectorizer = joblib.load('count_vectorizer.pkl')\n",
    "\n",
    "# Define the Streamlit interface\n",
    "st.title('Spam Detection Web App')\n",
    "\n",
    "user_input = st.text_area(\"Enter a message\")\n",
    "\n",
    "if st.button(\"Classify\"):\n",
    "    cleaned_input = clean_text(user_input)\n",
    "    input_vectorized = vectorizer.transform([cleaned_input])\n",
    "    prediction = model.predict(input_vectorized)\n",
    "    \n",
    "    if prediction == 1:\n",
    "        st.write(\"This is a Spam message.\")\n",
    "    else:\n",
    "        st.write(\"This is a Ham message.\")"
   ]
  },
  {
   "cell_type": "markdown",
   "id": "f554cd29-3b28-4a1f-b4f1-15f80e06ee54",
   "metadata": {},
   "source": [
    "## Conclusion and Final Thoughts"
   ]
  },
  {
   "cell_type": "markdown",
   "id": "160bdf67-bd0c-45d8-80ea-5a2003b1071f",
   "metadata": {},
   "source": [
    "We have successfully built and evaluated a spam detection model.\n",
    "\n",
    "Consider advanced techniques such as deep learning (e.g., LSTM) if working with larger datasets or more complex scenarios.\n",
    "\n",
    "Explore model deployment using services like Flask or Streamlit for real-time predictions."
   ]
  }
 ],
 "metadata": {
  "kernelspec": {
   "display_name": "Python 3 (ipykernel)",
   "language": "python",
   "name": "python3"
  },
  "language_info": {
   "codemirror_mode": {
    "name": "ipython",
    "version": 3
   },
   "file_extension": ".py",
   "mimetype": "text/x-python",
   "name": "python",
   "nbconvert_exporter": "python",
   "pygments_lexer": "ipython3",
   "version": "3.12.7"
  }
 },
 "nbformat": 4,
 "nbformat_minor": 5
}
